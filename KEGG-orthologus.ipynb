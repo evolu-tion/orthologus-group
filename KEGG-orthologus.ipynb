{
 "cells": [
  {
   "cell_type": "markdown",
   "metadata": {},
   "source": [
    "# Protein data collection data from KEGG database"
   ]
  },
  {
   "cell_type": "code",
   "execution_count": 1,
   "metadata": {
    "collapsed": true
   },
   "outputs": [],
   "source": [
    "# Standard library packages\n",
    "import io\n",
    "\n",
    "# Import Biopython modules to interact with KEGG\n",
    "from Bio import SeqIO\n",
    "from Bio.KEGG import REST\n",
    "\n",
    "# Import Pandas, so we can use dataframes\n",
    "import pandas as pd\n",
    "\n",
    "# Some code to return a Pandas dataframe, given tabular text\n",
    "def to_df(result):\n",
    "    return pd.read_table(io.StringIO(result), header=None)"
   ]
  },
  {
   "cell_type": "markdown",
   "metadata": {
    "collapsed": true
   },
   "source": [
    "## 1. Retriving Oryza Sativa (Japonica group) via KEGG API"
   ]
  },
  {
   "cell_type": "code",
   "execution_count": 2,
   "metadata": {},
   "outputs": [],
   "source": [
    "# Get reactions involved with fatty-acid biosynthesis\n",
    "gene_pathway = REST.kegg_link(\"pathway\", \"dosa\").read()\n",
    "gene_pathway = to_df(gene_pathway)\n",
    "gene_pathway.columns = [\"protein_id\", \"pathway\"]\n",
    "gene_pathway.set_index(\"protein_id\", inplace=True)\n",
    "\n",
    "gene_ko = REST.kegg_link(\"ko\", \"dosa\").read()\n",
    "gene_ko = to_df(gene_ko)\n",
    "gene_ko.columns = [\"protein_id\", \"ko\"]\n",
    "gene_ko.set_index(\"protein_id\", inplace=True)\n",
    "\n",
    "gene_ec = REST.kegg_link(\"ec\", \"dosa\").read()\n",
    "gene_ec = to_df(gene_ec)\n",
    "gene_ec.columns = [\"protein_id\", \"ec\"]\n",
    "gene_ec.set_index(\"protein_id\", inplace=True)"
   ]
  },
  {
   "cell_type": "markdown",
   "metadata": {},
   "source": [
    "## 2. Merging table of ec, ko, pathway with same protein id"
   ]
  },
  {
   "cell_type": "code",
   "execution_count": 3,
   "metadata": {
    "scrolled": true
   },
   "outputs": [
    {
     "data": {
      "text/html": [
       "<div>\n",
       "<style>\n",
       "    .dataframe thead tr:only-child th {\n",
       "        text-align: right;\n",
       "    }\n",
       "\n",
       "    .dataframe thead th {\n",
       "        text-align: left;\n",
       "    }\n",
       "\n",
       "    .dataframe tbody tr th {\n",
       "        vertical-align: top;\n",
       "    }\n",
       "</style>\n",
       "<table border=\"1\" class=\"dataframe\">\n",
       "  <thead>\n",
       "    <tr style=\"text-align: right;\">\n",
       "      <th></th>\n",
       "      <th>ec</th>\n",
       "      <th>pathway</th>\n",
       "      <th>ko</th>\n",
       "    </tr>\n",
       "    <tr>\n",
       "      <th>protein_id</th>\n",
       "      <th></th>\n",
       "      <th></th>\n",
       "      <th></th>\n",
       "    </tr>\n",
       "  </thead>\n",
       "  <tbody>\n",
       "    <tr>\n",
       "      <th>dosa:Os01t0100400-01</th>\n",
       "      <td>NaN</td>\n",
       "      <td>NaN</td>\n",
       "      <td>ko:K19791</td>\n",
       "    </tr>\n",
       "    <tr>\n",
       "      <th>dosa:Os01t0100700-01</th>\n",
       "      <td>NaN</td>\n",
       "      <td>path:dosa03010</td>\n",
       "      <td>ko:K02989</td>\n",
       "    </tr>\n",
       "    <tr>\n",
       "      <th>dosa:Os01t0100900-01</th>\n",
       "      <td>ec:4.1.2.27</td>\n",
       "      <td>path:dosa00600</td>\n",
       "      <td>ko:K01634</td>\n",
       "    </tr>\n",
       "    <tr>\n",
       "      <th>dosa:Os01t0100900-01</th>\n",
       "      <td>ec:4.1.2.27</td>\n",
       "      <td>path:dosa01100</td>\n",
       "      <td>ko:K01634</td>\n",
       "    </tr>\n",
       "    <tr>\n",
       "      <th>dosa:Os01t0101200-01</th>\n",
       "      <td>ec:3.1.3.77</td>\n",
       "      <td>path:dosa00270</td>\n",
       "      <td>ko:K09880</td>\n",
       "    </tr>\n",
       "  </tbody>\n",
       "</table>\n",
       "</div>"
      ],
      "text/plain": [
       "                               ec         pathway         ko\n",
       "protein_id                                                  \n",
       "dosa:Os01t0100400-01          NaN             NaN  ko:K19791\n",
       "dosa:Os01t0100700-01          NaN  path:dosa03010  ko:K02989\n",
       "dosa:Os01t0100900-01  ec:4.1.2.27  path:dosa00600  ko:K01634\n",
       "dosa:Os01t0100900-01  ec:4.1.2.27  path:dosa01100  ko:K01634\n",
       "dosa:Os01t0101200-01  ec:3.1.3.77  path:dosa00270  ko:K09880"
      ]
     },
     "execution_count": 3,
     "metadata": {},
     "output_type": "execute_result"
    }
   ],
   "source": [
    "tbl_merge = pd.merge(gene_ec, gene_pathway, left_index=True, right_index=True, how='outer')\n",
    "tbl_merge = pd.merge(tbl_merge, gene_ko, left_index=True, right_index=True, how='outer')\n",
    "tbl_merge.head()"
   ]
  },
  {
   "cell_type": "code",
   "execution_count": 4,
   "metadata": {},
   "outputs": [
    {
     "data": {
      "text/html": [
       "<div>\n",
       "<style>\n",
       "    .dataframe thead tr:only-child th {\n",
       "        text-align: right;\n",
       "    }\n",
       "\n",
       "    .dataframe thead th {\n",
       "        text-align: left;\n",
       "    }\n",
       "\n",
       "    .dataframe tbody tr th {\n",
       "        vertical-align: top;\n",
       "    }\n",
       "</style>\n",
       "<table border=\"1\" class=\"dataframe\">\n",
       "  <thead>\n",
       "    <tr style=\"text-align: right;\">\n",
       "      <th></th>\n",
       "      <th>ec_desc</th>\n",
       "    </tr>\n",
       "    <tr>\n",
       "      <th>ec</th>\n",
       "      <th></th>\n",
       "    </tr>\n",
       "  </thead>\n",
       "  <tbody>\n",
       "    <tr>\n",
       "      <th>ec:1.1.1.1</th>\n",
       "      <td>alcohol dehydrogenase; aldehyde reductase; ADH...</td>\n",
       "    </tr>\n",
       "    <tr>\n",
       "      <th>ec:1.1.1.2</th>\n",
       "      <td>alcohol dehydrogenase (NADP+); aldehyde reduct...</td>\n",
       "    </tr>\n",
       "    <tr>\n",
       "      <th>ec:1.1.1.3</th>\n",
       "      <td>homoserine dehydrogenase; HSDH; HSD</td>\n",
       "    </tr>\n",
       "    <tr>\n",
       "      <th>ec:1.1.1.4</th>\n",
       "      <td>(R,R)-butanediol dehydrogenase; butyleneglycol...</td>\n",
       "    </tr>\n",
       "    <tr>\n",
       "      <th>ec:1.1.1.5</th>\n",
       "      <td>Transferred to 1.1.1.303 and 1.1.1.304</td>\n",
       "    </tr>\n",
       "  </tbody>\n",
       "</table>\n",
       "</div>"
      ],
      "text/plain": [
       "                                                      ec_desc\n",
       "ec                                                           \n",
       "ec:1.1.1.1  alcohol dehydrogenase; aldehyde reductase; ADH...\n",
       "ec:1.1.1.2  alcohol dehydrogenase (NADP+); aldehyde reduct...\n",
       "ec:1.1.1.3                homoserine dehydrogenase; HSDH; HSD\n",
       "ec:1.1.1.4  (R,R)-butanediol dehydrogenase; butyleneglycol...\n",
       "ec:1.1.1.5             Transferred to 1.1.1.303 and 1.1.1.304"
      ]
     },
     "execution_count": 4,
     "metadata": {},
     "output_type": "execute_result"
    }
   ],
   "source": [
    "ec_desc = REST.kegg_list(\"ec\").read()\n",
    "ec_desc = to_df(ec_desc)\n",
    "ec_desc.columns = [\"ec\", \"ec_desc\"]\n",
    "ec_desc.set_index(\"ec\", inplace=True)\n",
    "ec_desc.head()"
   ]
  },
  {
   "cell_type": "markdown",
   "metadata": {},
   "source": [
    "## 3. Adding EC description into merged table"
   ]
  },
  {
   "cell_type": "code",
   "execution_count": 5,
   "metadata": {
    "scrolled": true
   },
   "outputs": [
    {
     "data": {
      "text/html": [
       "<div>\n",
       "<style>\n",
       "    .dataframe thead tr:only-child th {\n",
       "        text-align: right;\n",
       "    }\n",
       "\n",
       "    .dataframe thead th {\n",
       "        text-align: left;\n",
       "    }\n",
       "\n",
       "    .dataframe tbody tr th {\n",
       "        vertical-align: top;\n",
       "    }\n",
       "</style>\n",
       "<table border=\"1\" class=\"dataframe\">\n",
       "  <thead>\n",
       "    <tr style=\"text-align: right;\">\n",
       "      <th></th>\n",
       "      <th>ec</th>\n",
       "      <th>pathway</th>\n",
       "      <th>ko</th>\n",
       "      <th>ec_desc</th>\n",
       "    </tr>\n",
       "    <tr>\n",
       "      <th>protein_id</th>\n",
       "      <th></th>\n",
       "      <th></th>\n",
       "      <th></th>\n",
       "      <th></th>\n",
       "    </tr>\n",
       "  </thead>\n",
       "  <tbody>\n",
       "    <tr>\n",
       "      <th>dosa:Os01t0100900-01</th>\n",
       "      <td>ec:4.1.2.27</td>\n",
       "      <td>path:dosa00600</td>\n",
       "      <td>ko:K01634</td>\n",
       "      <td>sphinganine-1-phosphate aldolase; dihydrosphin...</td>\n",
       "    </tr>\n",
       "    <tr>\n",
       "      <th>dosa:Os01t0100900-01</th>\n",
       "      <td>ec:4.1.2.27</td>\n",
       "      <td>path:dosa01100</td>\n",
       "      <td>ko:K01634</td>\n",
       "      <td>sphinganine-1-phosphate aldolase; dihydrosphin...</td>\n",
       "    </tr>\n",
       "    <tr>\n",
       "      <th>dosa:Os01t0101200-01</th>\n",
       "      <td>ec:3.1.3.77</td>\n",
       "      <td>path:dosa00270</td>\n",
       "      <td>ko:K09880</td>\n",
       "      <td>acireductone synthase; E1; E-1 enolase-phospha...</td>\n",
       "    </tr>\n",
       "    <tr>\n",
       "      <th>dosa:Os01t0101200-01</th>\n",
       "      <td>ec:3.1.3.77</td>\n",
       "      <td>path:dosa01100</td>\n",
       "      <td>ko:K09880</td>\n",
       "      <td>acireductone synthase; E1; E-1 enolase-phospha...</td>\n",
       "    </tr>\n",
       "    <tr>\n",
       "      <th>dosa:Os11t0484000-01</th>\n",
       "      <td>ec:3.1.3.77</td>\n",
       "      <td>path:dosa00270</td>\n",
       "      <td>ko:K16054</td>\n",
       "      <td>acireductone synthase; E1; E-1 enolase-phospha...</td>\n",
       "    </tr>\n",
       "  </tbody>\n",
       "</table>\n",
       "</div>"
      ],
      "text/plain": [
       "                               ec         pathway         ko  \\\n",
       "protein_id                                                     \n",
       "dosa:Os01t0100900-01  ec:4.1.2.27  path:dosa00600  ko:K01634   \n",
       "dosa:Os01t0100900-01  ec:4.1.2.27  path:dosa01100  ko:K01634   \n",
       "dosa:Os01t0101200-01  ec:3.1.3.77  path:dosa00270  ko:K09880   \n",
       "dosa:Os01t0101200-01  ec:3.1.3.77  path:dosa01100  ko:K09880   \n",
       "dosa:Os11t0484000-01  ec:3.1.3.77  path:dosa00270  ko:K16054   \n",
       "\n",
       "                                                                ec_desc  \n",
       "protein_id                                                               \n",
       "dosa:Os01t0100900-01  sphinganine-1-phosphate aldolase; dihydrosphin...  \n",
       "dosa:Os01t0100900-01  sphinganine-1-phosphate aldolase; dihydrosphin...  \n",
       "dosa:Os01t0101200-01  acireductone synthase; E1; E-1 enolase-phospha...  \n",
       "dosa:Os01t0101200-01  acireductone synthase; E1; E-1 enolase-phospha...  \n",
       "dosa:Os11t0484000-01  acireductone synthase; E1; E-1 enolase-phospha...  "
      ]
     },
     "execution_count": 5,
     "metadata": {},
     "output_type": "execute_result"
    }
   ],
   "source": [
    "tbl_merge = tbl_merge.join(ec_desc, on=['ec'], how='inner')\n",
    "tbl_merge.head()"
   ]
  },
  {
   "cell_type": "code",
   "execution_count": 6,
   "metadata": {
    "collapsed": true
   },
   "outputs": [],
   "source": [
    "## 4. Exporting merged table into tab-delimited file\n",
    "tbl_merge.to_csv(\"Proteins_Osa.txt\", sep='\\t')"
   ]
  },
  {
   "cell_type": "markdown",
   "metadata": {},
   "source": [
    "# Extract protein sequence from FASTA file"
   ]
  },
  {
   "cell_type": "code",
   "execution_count": null,
   "metadata": {
    "collapsed": true
   },
   "outputs": [],
   "source": []
  }
 ],
 "metadata": {
  "kernelspec": {
   "display_name": "Python 3",
   "language": "python",
   "name": "python3"
  },
  "language_info": {
   "codemirror_mode": {
    "name": "ipython",
    "version": 3
   },
   "file_extension": ".py",
   "mimetype": "text/x-python",
   "name": "python",
   "nbconvert_exporter": "python",
   "pygments_lexer": "ipython3",
   "version": "3.6.6"
  }
 },
 "nbformat": 4,
 "nbformat_minor": 2
}
